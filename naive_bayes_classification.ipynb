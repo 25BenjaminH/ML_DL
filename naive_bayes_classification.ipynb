{
 "cells": [
  {
   "cell_type": "code",
   "execution_count": 1,
   "id": "68580f13",
   "metadata": {},
   "outputs": [],
   "source": [
    "import pandas as pd\n",
    "\n",
    "titanic = pd.read_csv('https://storage.googleapis.com/kaggle_datasets/Titanic-Machine-Learning-from-Disaster/train.csv')\n",
    "titanic_data = titanic.loc[:,['Survived','Pclass']]"
   ]
  },
  {
   "cell_type": "code",
   "execution_count": 2,
   "id": "9537c90f",
   "metadata": {},
   "outputs": [
    {
     "data": {
      "text/html": [
       "<div>\n",
       "<style scoped>\n",
       "    .dataframe tbody tr th:only-of-type {\n",
       "        vertical-align: middle;\n",
       "    }\n",
       "\n",
       "    .dataframe tbody tr th {\n",
       "        vertical-align: top;\n",
       "    }\n",
       "\n",
       "    .dataframe thead th {\n",
       "        text-align: right;\n",
       "    }\n",
       "</style>\n",
       "<table border=\"1\" class=\"dataframe\">\n",
       "  <thead>\n",
       "    <tr style=\"text-align: right;\">\n",
       "      <th>Pclass</th>\n",
       "      <th>1</th>\n",
       "      <th>2</th>\n",
       "      <th>3</th>\n",
       "    </tr>\n",
       "    <tr>\n",
       "      <th>Survived</th>\n",
       "      <th></th>\n",
       "      <th></th>\n",
       "      <th></th>\n",
       "    </tr>\n",
       "  </thead>\n",
       "  <tbody>\n",
       "    <tr>\n",
       "      <th>0</th>\n",
       "      <td>80</td>\n",
       "      <td>97</td>\n",
       "      <td>372</td>\n",
       "    </tr>\n",
       "    <tr>\n",
       "      <th>1</th>\n",
       "      <td>136</td>\n",
       "      <td>87</td>\n",
       "      <td>119</td>\n",
       "    </tr>\n",
       "  </tbody>\n",
       "</table>\n",
       "</div>"
      ],
      "text/plain": [
       "Pclass      1   2    3\n",
       "Survived              \n",
       "0          80  97  372\n",
       "1         136  87  119"
      ]
     },
     "execution_count": 2,
     "metadata": {},
     "output_type": "execute_result"
    }
   ],
   "source": [
    "cross_table = pd.crosstab(index=titanic_data['Survived'], columns=titanic_data['Pclass'])\n",
    "cross_table"
   ]
  },
  {
   "cell_type": "markdown",
   "id": "4ebec827",
   "metadata": {},
   "source": [
    "<img src=\"./dataset/posterior_probability_titanic.png\">"
   ]
  },
  {
   "cell_type": "code",
   "execution_count": 3,
   "id": "e014811e",
   "metadata": {},
   "outputs": [],
   "source": [
    "passenger_num = cross_table.sum().sum()\n",
    "survived_num = cross_table.iloc[1].sum()\n",
    "pclass1_num = cross_table.loc[:,1].sum()\n",
    "pclass2_num = cross_table.loc[:,2].sum()\n",
    "pclass3_num = cross_table.loc[:,3].sum()\n",
    "\n",
    "survived_pclass1_num = cross_table.loc[:,1][1]\n",
    "survived_pclass2_num = cross_table.loc[:,2][1]\n",
    "survived_pclass3_num = cross_table.loc[:,3][1]\n",
    "\n",
    "p_pclass1 = pclass1_num/passenger_num\n",
    "p_pclass2 = pclass2_num/passenger_num\n",
    "p_pclass3 = pclass3_num/passenger_num\n",
    "\n",
    "p_survived = survived_num/passenger_num\n",
    "\n",
    "p_pclass1_given_survived = survived_pclass1_num/survived_num\n",
    "p_pclass2_given_survived = survived_pclass2_num/survived_num\n",
    "p_pclass3_given_survived = survived_pclass3_num/survived_num"
   ]
  },
  {
   "cell_type": "code",
   "execution_count": 4,
   "id": "cd06e91f",
   "metadata": {},
   "outputs": [
    {
     "name": "stdout",
     "output_type": "stream",
     "text": [
      "0.6296296296296295\n",
      "0.47282608695652173\n",
      "0.24236252545824846\n"
     ]
    }
   ],
   "source": [
    "p_survived_given_pclass1 = p_pclass1_given_survived*p_survived/p_pclass1\n",
    "p_survived_given_pclass2 = p_pclass2_given_survived*p_survived/p_pclass2\n",
    "p_survived_given_pclass3 = p_pclass3_given_survived*p_survived/p_pclass3\n",
    "\n",
    "print(p_survived_given_pclass1)\n",
    "print(p_survived_given_pclass2)\n",
    "print(p_survived_given_pclass3)"
   ]
  },
  {
   "cell_type": "code",
   "execution_count": 5,
   "id": "7af6fa25",
   "metadata": {},
   "outputs": [
    {
     "data": {
      "text/html": [
       "<div>\n",
       "<style scoped>\n",
       "    .dataframe tbody tr th:only-of-type {\n",
       "        vertical-align: middle;\n",
       "    }\n",
       "\n",
       "    .dataframe tbody tr th {\n",
       "        vertical-align: top;\n",
       "    }\n",
       "\n",
       "    .dataframe thead th {\n",
       "        text-align: right;\n",
       "    }\n",
       "</style>\n",
       "<table border=\"1\" class=\"dataframe\">\n",
       "  <thead>\n",
       "    <tr style=\"text-align: right;\">\n",
       "      <th>Pclass</th>\n",
       "      <th>1</th>\n",
       "      <th>2</th>\n",
       "      <th>3</th>\n",
       "    </tr>\n",
       "    <tr>\n",
       "      <th>Survived</th>\n",
       "      <th></th>\n",
       "      <th></th>\n",
       "      <th></th>\n",
       "    </tr>\n",
       "  </thead>\n",
       "  <tbody>\n",
       "    <tr>\n",
       "      <th>0</th>\n",
       "      <td>55</td>\n",
       "      <td>64</td>\n",
       "      <td>255</td>\n",
       "    </tr>\n",
       "    <tr>\n",
       "      <th>1</th>\n",
       "      <td>80</td>\n",
       "      <td>61</td>\n",
       "      <td>81</td>\n",
       "    </tr>\n",
       "  </tbody>\n",
       "</table>\n",
       "</div>"
      ],
      "text/plain": [
       "Pclass     1   2    3\n",
       "Survived             \n",
       "0         55  64  255\n",
       "1         80  61   81"
      ]
     },
     "execution_count": 5,
     "metadata": {},
     "output_type": "execute_result"
    }
   ],
   "source": [
    "from sklearn.model_selection import train_test_split\n",
    "\n",
    "titanic = pd.read_csv('https://storage.googleapis.com/kaggle_datasets/Titanic-Machine-Learning-from-Disaster/train.csv')\n",
    "x = titanic.loc[:,'Pclass'].values.reshape(-1,1) #reshape sample數量 * feature數量\n",
    "y = titanic.loc[:,'Survived'].values\n",
    "\n",
    "x_train, x_test, y_train, y_test = train_test_split(x,y,test_size=0.33, random_state=42)\n",
    "train_df = pd.DataFrame()\n",
    "train_df['Survived'] = y_train.tolist()\n",
    "train_df['Pclass'] = x_train.ravel()\n",
    "\n",
    "cross_table_train = pd.crosstab(index=train_df['Survived'], columns=train_df['Pclass'])\n",
    "cross_table_train"
   ]
  },
  {
   "cell_type": "code",
   "execution_count": 6,
   "id": "87d690d8",
   "metadata": {},
   "outputs": [],
   "source": [
    "passenger_num = cross_table_train.sum().sum()\n",
    "survived_num = cross_table_train.iloc[1].sum()\n",
    "pclass1_num = cross_table_train.loc[:,1].sum()\n",
    "pclass2_num = cross_table_train.loc[:,2].sum()\n",
    "pclass3_num = cross_table_train.loc[:,3].sum()\n",
    "pclass1_survived = cross_table_train.loc[:,1][1]\n",
    "pclass2_survived = cross_table_train.loc[:,2][1]\n",
    "pclass3_survived = cross_table_train.loc[:,3][1]\n",
    "\n",
    "p_pclass1 = pclass1_num/passenger_num\n",
    "p_pclass2 = pclass2_num/passenger_num\n",
    "p_pclass3 = pclass3_num/passenger_num\n",
    "\n",
    "p_survived = survived_num/passenger_num\n",
    "\n",
    "p_pclass1_given_survived = pclass1_survived/survived_num\n",
    "p_pclass2_given_survived = pclass2_survived/survived_num\n",
    "p_pclass3_given_survived = pclass3_survived/survived_num\n",
    "\n",
    "p_survived_given_pclass1 = p_pclass1_given_survived*p_survived/p_pclass1\n",
    "p_survived_given_pclass2 = p_pclass2_given_survived*p_survived/p_pclass2\n",
    "p_survived_given_pclass3 = p_pclass3_given_survived*p_survived/p_pclass3"
   ]
  },
  {
   "cell_type": "code",
   "execution_count": 7,
   "id": "2728ff18",
   "metadata": {},
   "outputs": [
    {
     "name": "stdout",
     "output_type": "stream",
     "text": [
      "0.5925925925925926\n",
      "0.4880000000000001\n",
      "0.24107142857142858\n"
     ]
    }
   ],
   "source": [
    "print(p_survived_given_pclass1)\n",
    "print(p_survived_given_pclass2)\n",
    "print(p_survived_given_pclass3)"
   ]
  },
  {
   "cell_type": "code",
   "execution_count": 8,
   "id": "15c23398",
   "metadata": {},
   "outputs": [],
   "source": [
    "import numpy as np\n",
    "\n",
    "def get_y_predict(x_validation, p_survived_given_pclass1, p_survived_given_pclass2, p_survived_given_pclass3):\n",
    "    y_predict = np.zeros(x_validation.shape[0],dtype = int)\n",
    "    for i in range(y_predict.size):\n",
    "        if x_validation[i,0] == 1:\n",
    "            prediction = np.random.choice([0,1], p = [1 - p_survived_given_pclass1, p_survived_given_pclass1])\n",
    "        elif x_validation[i,0] == 2:\n",
    "            prediction = np.random.choice([0,1], p = [1 - p_survived_given_pclass2, p_survived_given_pclass2])    \n",
    "        elif x_validation[i,0] == 3:\n",
    "            prediction = np.random.choice([0,1], p = [1 - p_survived_given_pclass3, p_survived_given_pclass3])\n",
    "        y_predict[i] = prediction\n",
    "        \n",
    "    return y_predict"
   ]
  },
  {
   "cell_type": "code",
   "execution_count": 9,
   "id": "5a65e225",
   "metadata": {},
   "outputs": [
    {
     "name": "stdout",
     "output_type": "stream",
     "text": [
      "[1 1 0 1 0 1 0 0 0 1]\n",
      "[1 0 0 1 1 1 1 0 1 1]\n"
     ]
    }
   ],
   "source": [
    "y_predict = get_y_predict(x_test, p_survived_given_pclass1, p_survived_given_pclass2, p_survived_given_pclass3)\n",
    "print(y_predict[0:10])\n",
    "print(y_test[0:10])"
   ]
  },
  {
   "cell_type": "code",
   "execution_count": 10,
   "id": "808b1147",
   "metadata": {},
   "outputs": [
    {
     "name": "stdout",
     "output_type": "stream",
     "text": [
      "Accuracy score: 55.59%\n"
     ]
    }
   ],
   "source": [
    "n_tp_tn = (y_predict == y_test).sum()\n",
    "acc = n_tp_tn / y_predict.size\n",
    "print('Accuracy score: {:.2f}%'.format(acc*100))"
   ]
  },
  {
   "cell_type": "markdown",
   "id": "e7fdae27",
   "metadata": {},
   "source": [
    "<img src=\"./dataset/confusion_matrix.jpeg\">"
   ]
  },
  {
   "cell_type": "code",
   "execution_count": 11,
   "id": "52facb9d",
   "metadata": {},
   "outputs": [],
   "source": [
    "def get_tp():\n",
    "    result = 0;\n",
    "    for i in range(0,len(y_predict)):\n",
    "        if y_predict[i] == y_test[i] and y_predict[i] == 1:\n",
    "            result += 1\n",
    "    return result\n",
    "\n",
    "def get_tn():\n",
    "    result = 0;\n",
    "    for i in range(0,len(y_predict)):\n",
    "        if y_predict[i] == y_test[i] and y_predict[i] == 0:\n",
    "            result += 1\n",
    "    return result\n",
    "\n",
    "\n",
    "def get_fp():\n",
    "    result = 0;\n",
    "    for i in range(0,len(y_predict)):\n",
    "        if y_predict[i] != y_test[i] and y_predict[i] == 1:\n",
    "            result += 1\n",
    "    return result\n",
    "\n",
    "def get_fn():\n",
    "    result = 0;\n",
    "    for i in range(0,len(y_predict)):\n",
    "        if y_predict[i] != y_test[i] and y_predict[i] == 0:\n",
    "            result += 1\n",
    "    return result\n",
    "\n",
    "tn = get_tn()\n",
    "tp = get_tp()\n",
    "fp = get_fp()\n",
    "fn = get_fn()"
   ]
  },
  {
   "cell_type": "markdown",
   "id": "92a6d2b1",
   "metadata": {},
   "source": [
    "<img src=\"./dataset/confusion_matrix2.jpeg\">"
   ]
  },
  {
   "cell_type": "code",
   "execution_count": 12,
   "id": "47e3d8cd",
   "metadata": {},
   "outputs": [],
   "source": [
    "accuracy = (tp+tn)/len(y_predict)\n",
    "precision = tp/(tp+fp)\n",
    "recall = tp/(tp+fn)\n",
    "f1_score = 2/((1/precision)+(1/recall))"
   ]
  },
  {
   "cell_type": "code",
   "execution_count": 13,
   "id": "0902f5db",
   "metadata": {},
   "outputs": [
    {
     "data": {
      "text/plain": [
       "0.5559322033898305"
      ]
     },
     "execution_count": 13,
     "metadata": {},
     "output_type": "execute_result"
    }
   ],
   "source": [
    "accuracy"
   ]
  },
  {
   "cell_type": "code",
   "execution_count": 14,
   "id": "b8ea795f",
   "metadata": {},
   "outputs": [
    {
     "name": "stdout",
     "output_type": "stream",
     "text": [
      "0.5559322033898305\n",
      "0.45925925925925926\n",
      "0.5166666666666667\n",
      "0.4862745098039216\n"
     ]
    }
   ],
   "source": [
    "print(accuracy)\n",
    "print(precision)\n",
    "print(recall)\n",
    "print(f1_score)"
   ]
  },
  {
   "cell_type": "code",
   "execution_count": null,
   "id": "1739ad20",
   "metadata": {},
   "outputs": [],
   "source": []
  }
 ],
 "metadata": {
  "kernelspec": {
   "display_name": "Python 3 (ipykernel)",
   "language": "python",
   "name": "python3"
  },
  "language_info": {
   "codemirror_mode": {
    "name": "ipython",
    "version": 3
   },
   "file_extension": ".py",
   "mimetype": "text/x-python",
   "name": "python",
   "nbconvert_exporter": "python",
   "pygments_lexer": "ipython3",
   "version": "3.9.0"
  }
 },
 "nbformat": 4,
 "nbformat_minor": 5
}
